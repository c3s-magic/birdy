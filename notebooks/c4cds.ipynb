{
 "cells": [
  {
   "cell_type": "code",
   "execution_count": null,
   "metadata": {},
   "outputs": [],
   "source": [
    "from birdy import WPSClient\n",
    "from birdy.exceptions import ProcessIsNotComplete, ProcessFailed, ProcessCanceled\n",
    "from IPython.display import Image\n",
    "\n",
    "cli = WPSClient('http://cp4cds-cn1.dkrz.de/wps', progress=True)"
   ]
  },
  {
   "cell_type": "code",
   "execution_count": null,
   "metadata": {},
   "outputs": [],
   "source": [
    "result = cli.cmip5_regridder()"
   ]
  },
  {
   "cell_type": "code",
   "execution_count": null,
   "metadata": {},
   "outputs": [],
   "source": [
    "try:\n",
    "    output = result.get()\n",
    "except ProcessIsNotComplete:\n",
    "    print(\"Please wait ...\")\n",
    "except ProcessFailed:\n",
    "    print(\"Sorry, somthing went somethrong ...\")\n",
    "except ProcessCanceled:\n",
    "    # TODO: canceled exception is not raised yet\n",
    "    print(\"Job was canceled.\")\n",
    "else:\n",
    "    print(output)"
   ]
  },
  {
   "cell_type": "code",
   "execution_count": null,
   "metadata": {},
   "outputs": [],
   "source": [
    "Image(output.preview)"
   ]
  }
 ],
 "metadata": {
  "kernelspec": {
   "display_name": "Python 3",
   "language": "python",
   "name": "python3"
  },
  "language_info": {
   "codemirror_mode": {
    "name": "ipython",
    "version": 3
   },
   "file_extension": ".py",
   "mimetype": "text/x-python",
   "name": "python",
   "nbconvert_exporter": "python",
   "pygments_lexer": "ipython3",
   "version": "3.7.1"
  }
 },
 "nbformat": 4,
 "nbformat_minor": 2
}
